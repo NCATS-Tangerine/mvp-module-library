{
 "cells": [
  {
   "cell_type": "code",
   "execution_count": 32,
   "metadata": {},
   "outputs": [],
   "source": [
    "from BioLink.biolink_client import BioLinkWrapper\n",
    "import pandas as pd\n",
    "import cache_magic"
   ]
  },
  {
   "cell_type": "markdown",
   "metadata": {},
   "source": [
    "# Workflow II Rare Disease Candidates"
   ]
  },
  {
   "cell_type": "code",
   "execution_count": 33,
   "metadata": {},
   "outputs": [
    {
     "name": "stdout",
     "output_type": "stream",
     "text": [
      "Mod O DiseaseGeneLookup metadata:\n",
      "{'data_type': 'disease',\n",
      " 'input_type': {'complexity': 'single', 'id_type': ['MONDO', 'DO', 'OMIM']},\n",
      " 'limit': None,\n",
      " 'output_type': {'complexity': 'set', 'id_type': 'HGNC'},\n",
      " 'predicate': 'blm:gene associated with condition',\n",
      " 'source': 'Monarch Biolink',\n",
      " 'taxon': 'human'}\n"
     ]
    }
   ],
   "source": [
    "from Modules.Mod0_lookups import LookUp\n",
    "\n",
    "# workflow input is a disease identifier\n",
    "lu = LookUp()"
   ]
  },
  {
   "cell_type": "code",
   "execution_count": 34,
   "metadata": {},
   "outputs": [
    {
     "name": "stdout",
     "output_type": "stream",
     "text": [
      "{'description': 'Fanconi anemia (FA) is a hereditary DNA repair disorder '\n",
      "                'characterized by progressive pancytopenia with bone marrow '\n",
      "                'failure, variable congenital malformations and predisposition '\n",
      "                'to develop hematological or solid tumors.',\n",
      " 'id': 'MONDO:0019391',\n",
      " 'label': 'Fanconi anemia'}\n"
     ]
    }
   ],
   "source": [
    "input_disease = 'MONDO:0019391' # Fanconi anemia  \n",
    "input_object = {\n",
    "    'input': input_disease,\n",
    "    'parameters': {\n",
    "        'taxon': 'human',\n",
    "        'threshold': None,\n",
    "    },\n",
    "}\n",
    "\n",
    "lu.load_input_object(input_object=input_object)\n",
    "input_object = lu.input_object"
   ]
  },
  {
   "cell_type": "code",
   "execution_count": 35,
   "metadata": {},
   "outputs": [
    {
     "name": "stdout",
     "output_type": "stream",
     "text": [
      "Loading cached value for variable 'input_curie_set'. Time since caching: 2:09:40.374452\n"
     ]
    },
    {
     "data": {
      "text/html": [
       "<div>\n",
       "<style scoped>\n",
       "    .dataframe tbody tr th:only-of-type {\n",
       "        vertical-align: middle;\n",
       "    }\n",
       "\n",
       "    .dataframe tbody tr th {\n",
       "        vertical-align: top;\n",
       "    }\n",
       "\n",
       "    .dataframe thead th {\n",
       "        text-align: right;\n",
       "    }\n",
       "</style>\n",
       "<table border=\"1\" class=\"dataframe\">\n",
       "  <thead>\n",
       "    <tr style=\"text-align: right;\">\n",
       "      <th></th>\n",
       "      <th>input_id</th>\n",
       "      <th>input_symbol</th>\n",
       "      <th>hit_id</th>\n",
       "      <th>hit_symbol</th>\n",
       "      <th>sources</th>\n",
       "      <th>modules</th>\n",
       "    </tr>\n",
       "  </thead>\n",
       "  <tbody>\n",
       "    <tr>\n",
       "      <th>0</th>\n",
       "      <td>MONDO:0019391</td>\n",
       "      <td>Fanconi anemia</td>\n",
       "      <td>HGNC:1100</td>\n",
       "      <td>BRCA1</td>\n",
       "      <td>clinvar</td>\n",
       "      <td>Mod0</td>\n",
       "    </tr>\n",
       "    <tr>\n",
       "      <th>1</th>\n",
       "      <td>MONDO:0019391</td>\n",
       "      <td>Fanconi anemia</td>\n",
       "      <td>HGNC:1101</td>\n",
       "      <td>BRCA2</td>\n",
       "      <td>orphane, omim, ctd, orphane, clinvar</td>\n",
       "      <td>Mod0</td>\n",
       "    </tr>\n",
       "    <tr>\n",
       "      <th>2</th>\n",
       "      <td>MONDO:0019391</td>\n",
       "      <td>Fanconi anemia</td>\n",
       "      <td>HGNC:11892</td>\n",
       "      <td>TNF</td>\n",
       "      <td>ctd</td>\n",
       "      <td>Mod0</td>\n",
       "    </tr>\n",
       "    <tr>\n",
       "      <th>3</th>\n",
       "      <td>MONDO:0019391</td>\n",
       "      <td>Fanconi anemia</td>\n",
       "      <td>HGNC:12829</td>\n",
       "      <td>XRCC2</td>\n",
       "      <td>orphane, ctd, omim</td>\n",
       "      <td>Mod0</td>\n",
       "    </tr>\n",
       "    <tr>\n",
       "      <th>4</th>\n",
       "      <td>MONDO:0019391</td>\n",
       "      <td>Fanconi anemia</td>\n",
       "      <td>HGNC:20473</td>\n",
       "      <td>BRIP1</td>\n",
       "      <td>ctd, orphane, omim, ctd, clinvar</td>\n",
       "      <td>Mod0</td>\n",
       "    </tr>\n",
       "    <tr>\n",
       "      <th>5</th>\n",
       "      <td>MONDO:0019391</td>\n",
       "      <td>Fanconi anemia</td>\n",
       "      <td>HGNC:20748</td>\n",
       "      <td>FANCL</td>\n",
       "      <td>ctd, orphane, ctd, omim, clinvar</td>\n",
       "      <td>Mod0</td>\n",
       "    </tr>\n",
       "    <tr>\n",
       "      <th>6</th>\n",
       "      <td>MONDO:0019391</td>\n",
       "      <td>Fanconi anemia</td>\n",
       "      <td>HGNC:23168</td>\n",
       "      <td>FANCM</td>\n",
       "      <td>ctd, orphane</td>\n",
       "      <td>Mod0</td>\n",
       "    </tr>\n",
       "    <tr>\n",
       "      <th>7</th>\n",
       "      <td>MONDO:0019391</td>\n",
       "      <td>Fanconi anemia</td>\n",
       "      <td>HGNC:23845</td>\n",
       "      <td>SLX4</td>\n",
       "      <td>ctd, orphane, ctd, omim, clinvar</td>\n",
       "      <td>Mod0</td>\n",
       "    </tr>\n",
       "    <tr>\n",
       "      <th>8</th>\n",
       "      <td>MONDO:0019391</td>\n",
       "      <td>Fanconi anemia</td>\n",
       "      <td>HGNC:25009</td>\n",
       "      <td>UBE2T</td>\n",
       "      <td>omim, ctd, clinvar, orphane</td>\n",
       "      <td>Mod0</td>\n",
       "    </tr>\n",
       "    <tr>\n",
       "      <th>9</th>\n",
       "      <td>MONDO:0019391</td>\n",
       "      <td>Fanconi anemia</td>\n",
       "      <td>HGNC:25539</td>\n",
       "      <td>RFWD3</td>\n",
       "      <td>orphane</td>\n",
       "      <td>Mod0</td>\n",
       "    </tr>\n",
       "    <tr>\n",
       "      <th>10</th>\n",
       "      <td>MONDO:0019391</td>\n",
       "      <td>Fanconi anemia</td>\n",
       "      <td>HGNC:25568</td>\n",
       "      <td>FANCI</td>\n",
       "      <td>orphane, ctd, omim, clinvar</td>\n",
       "      <td>Mod0</td>\n",
       "    </tr>\n",
       "    <tr>\n",
       "      <th>11</th>\n",
       "      <td>MONDO:0019391</td>\n",
       "      <td>Fanconi anemia</td>\n",
       "      <td>HGNC:26144</td>\n",
       "      <td>PALB2</td>\n",
       "      <td>omim, ctd, clinvar, orphane</td>\n",
       "      <td>Mod0</td>\n",
       "    </tr>\n",
       "    <tr>\n",
       "      <th>12</th>\n",
       "      <td>MONDO:0019391</td>\n",
       "      <td>Fanconi anemia</td>\n",
       "      <td>HGNC:28623</td>\n",
       "      <td>FANCD2OS</td>\n",
       "      <td>clinvar</td>\n",
       "      <td>Mod0</td>\n",
       "    </tr>\n",
       "    <tr>\n",
       "      <th>13</th>\n",
       "      <td>MONDO:0019391</td>\n",
       "      <td>Fanconi anemia</td>\n",
       "      <td>HGNC:3436</td>\n",
       "      <td>ERCC4</td>\n",
       "      <td>orphane, ctd, omim, clinvar</td>\n",
       "      <td>Mod0</td>\n",
       "    </tr>\n",
       "    <tr>\n",
       "      <th>14</th>\n",
       "      <td>MONDO:0019391</td>\n",
       "      <td>Fanconi anemia</td>\n",
       "      <td>HGNC:3582</td>\n",
       "      <td>FANCA</td>\n",
       "      <td>ctd, omim, clinvar, orphane</td>\n",
       "      <td>Mod0</td>\n",
       "    </tr>\n",
       "    <tr>\n",
       "      <th>15</th>\n",
       "      <td>MONDO:0019391</td>\n",
       "      <td>Fanconi anemia</td>\n",
       "      <td>HGNC:3583</td>\n",
       "      <td>FANCB</td>\n",
       "      <td>omim, ctd, clinvar, orphane</td>\n",
       "      <td>Mod0</td>\n",
       "    </tr>\n",
       "    <tr>\n",
       "      <th>16</th>\n",
       "      <td>MONDO:0019391</td>\n",
       "      <td>Fanconi anemia</td>\n",
       "      <td>HGNC:3584</td>\n",
       "      <td>FANCC</td>\n",
       "      <td>ctd, orphane, omim, ctd, clinvar</td>\n",
       "      <td>Mod0</td>\n",
       "    </tr>\n",
       "    <tr>\n",
       "      <th>17</th>\n",
       "      <td>MONDO:0019391</td>\n",
       "      <td>Fanconi anemia</td>\n",
       "      <td>HGNC:3585</td>\n",
       "      <td>FANCD2</td>\n",
       "      <td>ctd, omim, clinvar, ctd, orphane</td>\n",
       "      <td>Mod0</td>\n",
       "    </tr>\n",
       "    <tr>\n",
       "      <th>18</th>\n",
       "      <td>MONDO:0019391</td>\n",
       "      <td>Fanconi anemia</td>\n",
       "      <td>HGNC:3586</td>\n",
       "      <td>FANCE</td>\n",
       "      <td>orphane, omim, ctd, clinvar</td>\n",
       "      <td>Mod0</td>\n",
       "    </tr>\n",
       "    <tr>\n",
       "      <th>19</th>\n",
       "      <td>MONDO:0019391</td>\n",
       "      <td>Fanconi anemia</td>\n",
       "      <td>HGNC:3587</td>\n",
       "      <td>FANCF</td>\n",
       "      <td>ctd, omim, clinvar, orphane</td>\n",
       "      <td>Mod0</td>\n",
       "    </tr>\n",
       "    <tr>\n",
       "      <th>20</th>\n",
       "      <td>MONDO:0019391</td>\n",
       "      <td>Fanconi anemia</td>\n",
       "      <td>HGNC:3588</td>\n",
       "      <td>FANCG</td>\n",
       "      <td>ctd, orphane, omim, ctd, clinvar</td>\n",
       "      <td>Mod0</td>\n",
       "    </tr>\n",
       "    <tr>\n",
       "      <th>21</th>\n",
       "      <td>MONDO:0019391</td>\n",
       "      <td>Fanconi anemia</td>\n",
       "      <td>HGNC:6764</td>\n",
       "      <td>MAD2L2</td>\n",
       "      <td>omim, ctd, clinvar, orphane</td>\n",
       "      <td>Mod0</td>\n",
       "    </tr>\n",
       "    <tr>\n",
       "      <th>22</th>\n",
       "      <td>MONDO:0019391</td>\n",
       "      <td>Fanconi anemia</td>\n",
       "      <td>HGNC:7532</td>\n",
       "      <td>MX1</td>\n",
       "      <td>ctd</td>\n",
       "      <td>Mod0</td>\n",
       "    </tr>\n",
       "    <tr>\n",
       "      <th>23</th>\n",
       "      <td>MONDO:0019391</td>\n",
       "      <td>Fanconi anemia</td>\n",
       "      <td>HGNC:9817</td>\n",
       "      <td>RAD51</td>\n",
       "      <td>ctd, omim, clinvar, orphane</td>\n",
       "      <td>Mod0</td>\n",
       "    </tr>\n",
       "    <tr>\n",
       "      <th>24</th>\n",
       "      <td>MONDO:0019391</td>\n",
       "      <td>Fanconi anemia</td>\n",
       "      <td>HGNC:9820</td>\n",
       "      <td>RAD51C</td>\n",
       "      <td>omim, ctd, clinvar, ctd, orphane</td>\n",
       "      <td>Mod0</td>\n",
       "    </tr>\n",
       "  </tbody>\n",
       "</table>\n",
       "</div>"
      ],
      "text/plain": [
       "         input_id    input_symbol      hit_id hit_symbol  \\\n",
       "0   MONDO:0019391  Fanconi anemia   HGNC:1100      BRCA1   \n",
       "1   MONDO:0019391  Fanconi anemia   HGNC:1101      BRCA2   \n",
       "2   MONDO:0019391  Fanconi anemia  HGNC:11892        TNF   \n",
       "3   MONDO:0019391  Fanconi anemia  HGNC:12829      XRCC2   \n",
       "4   MONDO:0019391  Fanconi anemia  HGNC:20473      BRIP1   \n",
       "5   MONDO:0019391  Fanconi anemia  HGNC:20748      FANCL   \n",
       "6   MONDO:0019391  Fanconi anemia  HGNC:23168      FANCM   \n",
       "7   MONDO:0019391  Fanconi anemia  HGNC:23845       SLX4   \n",
       "8   MONDO:0019391  Fanconi anemia  HGNC:25009      UBE2T   \n",
       "9   MONDO:0019391  Fanconi anemia  HGNC:25539      RFWD3   \n",
       "10  MONDO:0019391  Fanconi anemia  HGNC:25568      FANCI   \n",
       "11  MONDO:0019391  Fanconi anemia  HGNC:26144      PALB2   \n",
       "12  MONDO:0019391  Fanconi anemia  HGNC:28623   FANCD2OS   \n",
       "13  MONDO:0019391  Fanconi anemia   HGNC:3436      ERCC4   \n",
       "14  MONDO:0019391  Fanconi anemia   HGNC:3582      FANCA   \n",
       "15  MONDO:0019391  Fanconi anemia   HGNC:3583      FANCB   \n",
       "16  MONDO:0019391  Fanconi anemia   HGNC:3584      FANCC   \n",
       "17  MONDO:0019391  Fanconi anemia   HGNC:3585     FANCD2   \n",
       "18  MONDO:0019391  Fanconi anemia   HGNC:3586      FANCE   \n",
       "19  MONDO:0019391  Fanconi anemia   HGNC:3587      FANCF   \n",
       "20  MONDO:0019391  Fanconi anemia   HGNC:3588      FANCG   \n",
       "21  MONDO:0019391  Fanconi anemia   HGNC:6764     MAD2L2   \n",
       "22  MONDO:0019391  Fanconi anemia   HGNC:7532        MX1   \n",
       "23  MONDO:0019391  Fanconi anemia   HGNC:9817      RAD51   \n",
       "24  MONDO:0019391  Fanconi anemia   HGNC:9820     RAD51C   \n",
       "\n",
       "                                 sources modules  \n",
       "0                                clinvar    Mod0  \n",
       "1   orphane, omim, ctd, orphane, clinvar    Mod0  \n",
       "2                                    ctd    Mod0  \n",
       "3                     orphane, ctd, omim    Mod0  \n",
       "4       ctd, orphane, omim, ctd, clinvar    Mod0  \n",
       "5       ctd, orphane, ctd, omim, clinvar    Mod0  \n",
       "6                           ctd, orphane    Mod0  \n",
       "7       ctd, orphane, ctd, omim, clinvar    Mod0  \n",
       "8            omim, ctd, clinvar, orphane    Mod0  \n",
       "9                                orphane    Mod0  \n",
       "10           orphane, ctd, omim, clinvar    Mod0  \n",
       "11           omim, ctd, clinvar, orphane    Mod0  \n",
       "12                               clinvar    Mod0  \n",
       "13           orphane, ctd, omim, clinvar    Mod0  \n",
       "14           ctd, omim, clinvar, orphane    Mod0  \n",
       "15           omim, ctd, clinvar, orphane    Mod0  \n",
       "16      ctd, orphane, omim, ctd, clinvar    Mod0  \n",
       "17      ctd, omim, clinvar, ctd, orphane    Mod0  \n",
       "18           orphane, omim, ctd, clinvar    Mod0  \n",
       "19           ctd, omim, clinvar, orphane    Mod0  \n",
       "20      ctd, orphane, omim, ctd, clinvar    Mod0  \n",
       "21           omim, ctd, clinvar, orphane    Mod0  \n",
       "22                                   ctd    Mod0  \n",
       "23           ctd, omim, clinvar, orphane    Mod0  \n",
       "24      omim, ctd, clinvar, ctd, orphane    Mod0  "
      ]
     },
     "execution_count": 35,
     "metadata": {},
     "output_type": "execute_result"
    }
   ],
   "source": [
    "# get genes associated with disease from Biolink\n",
    "disease_associated_genes = lu.disease_geneset_lookup()\n",
    "# create list of gene curies for downstream module input\n",
    "%cache input_curie_set = disease_associated_genes[['hit_id', 'hit_symbol']].to_dict(orient='records')\n",
    "# # show the \n",
    "disease_associated_genes['modules'] = 'Mod0'\n",
    "disease_associated_genes\n",
    "# genes to investigate TNF, FANCD2OS"
   ]
  },
  {
   "cell_type": "markdown",
   "metadata": {},
   "source": [
    "# Mod1A Functional Similarity\n",
    "## Find similar genes based on GO functional annotations using OntoBio Jaccard similarity"
   ]
  },
  {
   "cell_type": "code",
   "execution_count": 36,
   "metadata": {},
   "outputs": [],
   "source": [
    "from Modules.Mod1A_functional_sim import FunctionalSimilarity"
   ]
  },
  {
   "cell_type": "markdown",
   "metadata": {},
   "source": [
    "## Mod1A_human"
   ]
  },
  {
   "cell_type": "code",
   "execution_count": 37,
   "metadata": {},
   "outputs": [
    {
     "name": "stdout",
     "output_type": "stream",
     "text": [
      "Mod1A Functional Similarity metadata:\n",
      "{'input_type': {'complexity': 'set', 'data_type': 'gene', 'id_type': 'HGNC'},\n",
      " 'output_type': {'complexity': 'set', 'data_type': 'gene', 'id_type': 'HGNC'},\n",
      " 'predicate': ['blm:macromolecular machine to biological process association',\n",
      "               'macromolecular machine to molecular activity association'],\n",
      " 'source': 'Monarch Biolink'}\n"
     ]
    }
   ],
   "source": [
    "# Module specification\n",
    "mod1a_input_object_human = {\n",
    "    'input': input_curie_set,\n",
    "    'parameters': {\n",
    "        'taxon': 'human',\n",
    "        'threshold': 0.75,  # jaccard index threshold\n",
    "    },\n",
    "}\n",
    "    \n",
    "func_sim_human = FunctionalSimilarity()"
   ]
  },
  {
   "cell_type": "code",
   "execution_count": 38,
   "metadata": {},
   "outputs": [],
   "source": [
    "func_sim_human.load_input_object(mod1a_input_object_human)\n",
    "func_sim_human.load_gene_set() "
   ]
  },
  {
   "cell_type": "code",
   "execution_count": 39,
   "metadata": {},
   "outputs": [],
   "source": [
    "func_sim_human.load_associations()"
   ]
  },
  {
   "cell_type": "code",
   "execution_count": 40,
   "metadata": {},
   "outputs": [],
   "source": [
    "mod1a_results = func_sim_human.compute_similarity()"
   ]
  },
  {
   "cell_type": "code",
   "execution_count": 41,
   "metadata": {},
   "outputs": [
    {
     "data": {
      "text/html": [
       "<div>\n",
       "<style scoped>\n",
       "    .dataframe tbody tr th:only-of-type {\n",
       "        vertical-align: middle;\n",
       "    }\n",
       "\n",
       "    .dataframe tbody tr th {\n",
       "        vertical-align: top;\n",
       "    }\n",
       "\n",
       "    .dataframe thead th {\n",
       "        text-align: right;\n",
       "    }\n",
       "</style>\n",
       "<table border=\"1\" class=\"dataframe\">\n",
       "  <thead>\n",
       "    <tr style=\"text-align: right;\">\n",
       "      <th></th>\n",
       "      <th>hit_id</th>\n",
       "      <th>hit_symbol</th>\n",
       "      <th>input_id</th>\n",
       "      <th>input_symbol</th>\n",
       "      <th>score</th>\n",
       "      <th>module</th>\n",
       "    </tr>\n",
       "  </thead>\n",
       "  <tbody>\n",
       "    <tr>\n",
       "      <th>17</th>\n",
       "      <td>HGNC:21700</td>\n",
       "      <td>RAD9B</td>\n",
       "      <td>HGNC:3583</td>\n",
       "      <td>FANCB</td>\n",
       "      <td>0.920000</td>\n",
       "      <td>Mod1A</td>\n",
       "    </tr>\n",
       "    <tr>\n",
       "      <th>15</th>\n",
       "      <td>HGNC:26171</td>\n",
       "      <td>FAAP100</td>\n",
       "      <td>HGNC:3583</td>\n",
       "      <td>FANCB</td>\n",
       "      <td>0.857143</td>\n",
       "      <td>Mod1A</td>\n",
       "    </tr>\n",
       "    <tr>\n",
       "      <th>22</th>\n",
       "      <td>HGNC:24994</td>\n",
       "      <td>INIP</td>\n",
       "      <td>HGNC:3583</td>\n",
       "      <td>FANCB</td>\n",
       "      <td>0.851852</td>\n",
       "      <td>Mod1A</td>\n",
       "    </tr>\n",
       "    <tr>\n",
       "      <th>26</th>\n",
       "      <td>HGNC:21700</td>\n",
       "      <td>RAD9B</td>\n",
       "      <td>HGNC:3586</td>\n",
       "      <td>FANCE</td>\n",
       "      <td>0.840000</td>\n",
       "      <td>Mod1A</td>\n",
       "    </tr>\n",
       "    <tr>\n",
       "      <th>20</th>\n",
       "      <td>HGNC:28467</td>\n",
       "      <td>FAAP24</td>\n",
       "      <td>HGNC:3583</td>\n",
       "      <td>FANCB</td>\n",
       "      <td>0.827586</td>\n",
       "      <td>Mod1A</td>\n",
       "    </tr>\n",
       "    <tr>\n",
       "      <th>16</th>\n",
       "      <td>HGNC:25021</td>\n",
       "      <td>ASTE1</td>\n",
       "      <td>HGNC:3583</td>\n",
       "      <td>FANCB</td>\n",
       "      <td>0.793103</td>\n",
       "      <td>Mod1A</td>\n",
       "    </tr>\n",
       "    <tr>\n",
       "      <th>18</th>\n",
       "      <td>HGNC:22223</td>\n",
       "      <td>EEPD1</td>\n",
       "      <td>HGNC:3583</td>\n",
       "      <td>FANCB</td>\n",
       "      <td>0.785714</td>\n",
       "      <td>Mod1A</td>\n",
       "    </tr>\n",
       "    <tr>\n",
       "      <th>25</th>\n",
       "      <td>HGNC:26171</td>\n",
       "      <td>FAAP100</td>\n",
       "      <td>HGNC:3586</td>\n",
       "      <td>FANCE</td>\n",
       "      <td>0.785714</td>\n",
       "      <td>Mod1A</td>\n",
       "    </tr>\n",
       "    <tr>\n",
       "      <th>8</th>\n",
       "      <td>HGNC:20922</td>\n",
       "      <td>SLX1A</td>\n",
       "      <td>HGNC:23845</td>\n",
       "      <td>SLX4</td>\n",
       "      <td>0.782313</td>\n",
       "      <td>Mod1A</td>\n",
       "    </tr>\n",
       "    <tr>\n",
       "      <th>27</th>\n",
       "      <td>HGNC:22223</td>\n",
       "      <td>EEPD1</td>\n",
       "      <td>HGNC:3586</td>\n",
       "      <td>FANCE</td>\n",
       "      <td>0.777778</td>\n",
       "      <td>Mod1A</td>\n",
       "    </tr>\n",
       "    <tr>\n",
       "      <th>31</th>\n",
       "      <td>HGNC:24994</td>\n",
       "      <td>INIP</td>\n",
       "      <td>HGNC:3586</td>\n",
       "      <td>FANCE</td>\n",
       "      <td>0.777778</td>\n",
       "      <td>Mod1A</td>\n",
       "    </tr>\n",
       "    <tr>\n",
       "      <th>29</th>\n",
       "      <td>HGNC:28467</td>\n",
       "      <td>FAAP24</td>\n",
       "      <td>HGNC:3586</td>\n",
       "      <td>FANCE</td>\n",
       "      <td>0.758621</td>\n",
       "      <td>Mod1A</td>\n",
       "    </tr>\n",
       "  </tbody>\n",
       "</table>\n",
       "</div>"
      ],
      "text/plain": [
       "        hit_id hit_symbol    input_id input_symbol     score module\n",
       "17  HGNC:21700      RAD9B   HGNC:3583        FANCB  0.920000  Mod1A\n",
       "15  HGNC:26171    FAAP100   HGNC:3583        FANCB  0.857143  Mod1A\n",
       "22  HGNC:24994       INIP   HGNC:3583        FANCB  0.851852  Mod1A\n",
       "26  HGNC:21700      RAD9B   HGNC:3586        FANCE  0.840000  Mod1A\n",
       "20  HGNC:28467     FAAP24   HGNC:3583        FANCB  0.827586  Mod1A\n",
       "16  HGNC:25021      ASTE1   HGNC:3583        FANCB  0.793103  Mod1A\n",
       "18  HGNC:22223      EEPD1   HGNC:3583        FANCB  0.785714  Mod1A\n",
       "25  HGNC:26171    FAAP100   HGNC:3586        FANCE  0.785714  Mod1A\n",
       "8   HGNC:20922      SLX1A  HGNC:23845         SLX4  0.782313  Mod1A\n",
       "27  HGNC:22223      EEPD1   HGNC:3586        FANCE  0.777778  Mod1A\n",
       "31  HGNC:24994       INIP   HGNC:3586        FANCE  0.777778  Mod1A\n",
       "29  HGNC:28467     FAAP24   HGNC:3586        FANCE  0.758621  Mod1A"
      ]
     },
     "execution_count": 41,
     "metadata": {},
     "output_type": "execute_result"
    }
   ],
   "source": [
    "Mod1A_results_human = pd.DataFrame(mod1a_results)\n",
    "Mod1A_results_human = Mod1A_results_human[~Mod1A_results_human['hit_id'].isin(disease_associated_genes['hit_id'].tolist())].sort_values('score', ascending=False)\n",
    "Mod1A_results_human['module'] = 'Mod1A'\n",
    "Mod1A_results_human"
   ]
  },
  {
   "cell_type": "markdown",
   "metadata": {},
   "source": [
    "# MOD1B Phenotype Similarity\n",
    "## Find similar genes based on OwlSim calculated Phenotype Similarity"
   ]
  },
  {
   "cell_type": "markdown",
   "metadata": {},
   "source": [
    "## Mod1B Human"
   ]
  },
  {
   "cell_type": "code",
   "execution_count": 42,
   "metadata": {},
   "outputs": [],
   "source": [
    "from Modules.Mod1B1_phenotype_similarity import PhenotypeSimilarity"
   ]
  },
  {
   "cell_type": "code",
   "execution_count": 43,
   "metadata": {},
   "outputs": [
    {
     "name": "stdout",
     "output_type": "stream",
     "text": [
      "Mod1B Phenotype Similarity metadata:\n",
      "{'input_type': {'complexity': 'set', 'data_type': 'gene', 'id_type': 'HGNC'},\n",
      " 'output_type': {'complexity': 'set', 'data_type': 'gene', 'id_type': 'HGNC'},\n",
      " 'predicate': ['blm:has phenotype'],\n",
      " 'source': 'Monarch Biolink'}\n"
     ]
    }
   ],
   "source": [
    "# Module specification\n",
    "mod1b_input_object_human = {\n",
    "    'input': input_curie_set,\n",
    "     'parameters': {\n",
    "        'taxon': 'human',\n",
    "        'threshold': .50,\n",
    "    },\n",
    "}\n",
    "\n",
    "\n",
    "pheno_sim_human = PhenotypeSimilarity()"
   ]
  },
  {
   "cell_type": "code",
   "execution_count": 44,
   "metadata": {},
   "outputs": [],
   "source": [
    "pheno_sim_human.load_input_object(mod1b_input_object_human)\n",
    "pheno_sim_human.load_gene_set()"
   ]
  },
  {
   "cell_type": "code",
   "execution_count": 45,
   "metadata": {},
   "outputs": [],
   "source": [
    "pheno_sim_human.load_associations()"
   ]
  },
  {
   "cell_type": "code",
   "execution_count": 46,
   "metadata": {},
   "outputs": [],
   "source": [
    "mod1b_results = pheno_sim_human.compute_similarity()"
   ]
  },
  {
   "cell_type": "code",
   "execution_count": 47,
   "metadata": {},
   "outputs": [
    {
     "data": {
      "text/html": [
       "<div>\n",
       "<style scoped>\n",
       "    .dataframe tbody tr th:only-of-type {\n",
       "        vertical-align: middle;\n",
       "    }\n",
       "\n",
       "    .dataframe tbody tr th {\n",
       "        vertical-align: top;\n",
       "    }\n",
       "\n",
       "    .dataframe thead th {\n",
       "        text-align: right;\n",
       "    }\n",
       "</style>\n",
       "<table border=\"1\" class=\"dataframe\">\n",
       "  <thead>\n",
       "    <tr style=\"text-align: right;\">\n",
       "      <th></th>\n",
       "      <th>hit_id</th>\n",
       "      <th>hit_symbol</th>\n",
       "      <th>input_id</th>\n",
       "      <th>input_symbol</th>\n",
       "      <th>score</th>\n",
       "      <th>module</th>\n",
       "    </tr>\n",
       "  </thead>\n",
       "  <tbody>\n",
       "    <tr>\n",
       "      <th>23</th>\n",
       "      <td>HGNC:6709</td>\n",
       "      <td>LTA</td>\n",
       "      <td>HGNC:11892</td>\n",
       "      <td>TNF</td>\n",
       "      <td>0.967320</td>\n",
       "      <td>Mod1B</td>\n",
       "    </tr>\n",
       "    <tr>\n",
       "      <th>58</th>\n",
       "      <td>HGNC:8143</td>\n",
       "      <td>OPCML</td>\n",
       "      <td>HGNC:20473</td>\n",
       "      <td>BRIP1</td>\n",
       "      <td>0.506042</td>\n",
       "      <td>Mod1B</td>\n",
       "    </tr>\n",
       "    <tr>\n",
       "      <th>60</th>\n",
       "      <td>HGNC:17271</td>\n",
       "      <td>RRAS2</td>\n",
       "      <td>HGNC:20473</td>\n",
       "      <td>BRIP1</td>\n",
       "      <td>0.506042</td>\n",
       "      <td>Mod1B</td>\n",
       "    </tr>\n",
       "    <tr>\n",
       "      <th>65</th>\n",
       "      <td>HGNC:7499</td>\n",
       "      <td>MT-TT</td>\n",
       "      <td>HGNC:20473</td>\n",
       "      <td>BRIP1</td>\n",
       "      <td>0.506042</td>\n",
       "      <td>Mod1B</td>\n",
       "    </tr>\n",
       "    <tr>\n",
       "      <th>201</th>\n",
       "      <td>HGNC:8143</td>\n",
       "      <td>OPCML</td>\n",
       "      <td>HGNC:26144</td>\n",
       "      <td>PALB2</td>\n",
       "      <td>0.500747</td>\n",
       "      <td>Mod1B</td>\n",
       "    </tr>\n",
       "    <tr>\n",
       "      <th>203</th>\n",
       "      <td>HGNC:17271</td>\n",
       "      <td>RRAS2</td>\n",
       "      <td>HGNC:26144</td>\n",
       "      <td>PALB2</td>\n",
       "      <td>0.500747</td>\n",
       "      <td>Mod1B</td>\n",
       "    </tr>\n",
       "    <tr>\n",
       "      <th>208</th>\n",
       "      <td>HGNC:7499</td>\n",
       "      <td>MT-TT</td>\n",
       "      <td>HGNC:26144</td>\n",
       "      <td>PALB2</td>\n",
       "      <td>0.500747</td>\n",
       "      <td>Mod1B</td>\n",
       "    </tr>\n",
       "  </tbody>\n",
       "</table>\n",
       "</div>"
      ],
      "text/plain": [
       "         hit_id hit_symbol    input_id input_symbol     score module\n",
       "23    HGNC:6709        LTA  HGNC:11892          TNF  0.967320  Mod1B\n",
       "58    HGNC:8143      OPCML  HGNC:20473        BRIP1  0.506042  Mod1B\n",
       "60   HGNC:17271      RRAS2  HGNC:20473        BRIP1  0.506042  Mod1B\n",
       "65    HGNC:7499      MT-TT  HGNC:20473        BRIP1  0.506042  Mod1B\n",
       "201   HGNC:8143      OPCML  HGNC:26144        PALB2  0.500747  Mod1B\n",
       "203  HGNC:17271      RRAS2  HGNC:26144        PALB2  0.500747  Mod1B\n",
       "208   HGNC:7499      MT-TT  HGNC:26144        PALB2  0.500747  Mod1B"
      ]
     },
     "execution_count": 47,
     "metadata": {},
     "output_type": "execute_result"
    }
   ],
   "source": [
    "# compute phenotype similarity\n",
    "Mod1B_results = pd.DataFrame(mod1b_results)\n",
    "Mod1B_results = Mod1B_results[~Mod1B_results['hit_id'].isin(disease_associated_genes['hit_id'].tolist())].sort_values('score', ascending=False)\n",
    "Mod1B_results['module'] = 'Mod1B'\n",
    "Mod1B_results"
   ]
  },
  {
   "cell_type": "markdown",
   "metadata": {},
   "source": [
    "# Mod1E Protein Interaction"
   ]
  },
  {
   "cell_type": "markdown",
   "metadata": {},
   "source": [
    "## Mod1E Human"
   ]
  },
  {
   "cell_type": "code",
   "execution_count": 48,
   "metadata": {},
   "outputs": [],
   "source": [
    "from Modules.Mod1E_interactions import GeneInteractions"
   ]
  },
  {
   "cell_type": "code",
   "execution_count": 49,
   "metadata": {},
   "outputs": [
    {
     "name": "stdout",
     "output_type": "stream",
     "text": [
      "Mod1E Interaction Network metadata:\n",
      "{'input_type': {'complexity': 'set', 'data_type': 'gene', 'id_type': 'HGNC'},\n",
      " 'output_type': {'complexity': 'set', 'data_type': 'gene', 'id_type': 'HGNC'},\n",
      " 'predicate': ['blm:interacts with'],\n",
      " 'source': 'Monarch Biolink'}\n"
     ]
    }
   ],
   "source": [
    "# Module specification\n",
    "mod1E_input_object_human = {\n",
    "    'input': input_curie_set,\n",
    "     'parameters': {\n",
    "        'taxon': 'human',\n",
    "        'threshold': None,\n",
    "    },\n",
    "}\n",
    "\n",
    "\n",
    "interactions_human = GeneInteractions()"
   ]
  },
  {
   "cell_type": "code",
   "execution_count": 50,
   "metadata": {},
   "outputs": [],
   "source": [
    "interactions_human.load_input_object(mod1E_input_object_human)\n",
    "interactions_human.load_gene_set()"
   ]
  },
  {
   "cell_type": "code",
   "execution_count": 51,
   "metadata": {},
   "outputs": [],
   "source": [
    "mod1e_results = interactions_human.get_interactions()"
   ]
  },
  {
   "cell_type": "code",
   "execution_count": 52,
   "metadata": {},
   "outputs": [],
   "source": [
    "Mod1E_results_human = pd.DataFrame(mod1e_results)"
   ]
  },
  {
   "cell_type": "code",
   "execution_count": 53,
   "metadata": {},
   "outputs": [],
   "source": [
    "counts = Mod1E_results_human['hit_symbol'].value_counts().rename_axis('unique_values').to_frame('counts').reset_index()\n",
    "high_counts = counts[counts['counts'] > 12]['unique_values'].tolist()"
   ]
  },
  {
   "cell_type": "code",
   "execution_count": 54,
   "metadata": {},
   "outputs": [],
   "source": [
    "Mod1E_results_final = pd.DataFrame(Mod1E_results_human[Mod1E_results_human['hit_symbol'].isin(high_counts)])"
   ]
  },
  {
   "cell_type": "code",
   "execution_count": 55,
   "metadata": {},
   "outputs": [],
   "source": [
    "Mod1E_results_final['module'] = 'Mod1E'"
   ]
  },
  {
   "cell_type": "code",
   "execution_count": 61,
   "metadata": {},
   "outputs": [
    {
     "data": {
      "text/html": [
       "<div>\n",
       "<style scoped>\n",
       "    .dataframe tbody tr th:only-of-type {\n",
       "        vertical-align: middle;\n",
       "    }\n",
       "\n",
       "    .dataframe tbody tr th {\n",
       "        vertical-align: top;\n",
       "    }\n",
       "\n",
       "    .dataframe thead th {\n",
       "        text-align: right;\n",
       "    }\n",
       "</style>\n",
       "<table border=\"1\" class=\"dataframe\">\n",
       "  <thead>\n",
       "    <tr style=\"text-align: right;\">\n",
       "      <th></th>\n",
       "      <th>hit_id</th>\n",
       "      <th>hit_symbol</th>\n",
       "      <th>input_id</th>\n",
       "      <th>input_symbol</th>\n",
       "      <th>score</th>\n",
       "      <th>module</th>\n",
       "    </tr>\n",
       "  </thead>\n",
       "  <tbody>\n",
       "    <tr>\n",
       "      <th>13</th>\n",
       "      <td>HGNC:10290</td>\n",
       "      <td>RPA2</td>\n",
       "      <td>HGNC:1100</td>\n",
       "      <td>BRCA1</td>\n",
       "      <td>0</td>\n",
       "      <td>Mod1E</td>\n",
       "    </tr>\n",
       "    <tr>\n",
       "      <th>60</th>\n",
       "      <td>HGNC:1925</td>\n",
       "      <td>CHEK1</td>\n",
       "      <td>HGNC:1100</td>\n",
       "      <td>BRCA1</td>\n",
       "      <td>0</td>\n",
       "      <td>Mod1E</td>\n",
       "    </tr>\n",
       "    <tr>\n",
       "      <th>70</th>\n",
       "      <td>HGNC:3584</td>\n",
       "      <td>FANCC</td>\n",
       "      <td>HGNC:1100</td>\n",
       "      <td>BRCA1</td>\n",
       "      <td>0</td>\n",
       "      <td>Mod1E</td>\n",
       "    </tr>\n",
       "    <tr>\n",
       "      <th>92</th>\n",
       "      <td>HGNC:25764</td>\n",
       "      <td>RMI1</td>\n",
       "      <td>HGNC:1100</td>\n",
       "      <td>BRCA1</td>\n",
       "      <td>0</td>\n",
       "      <td>Mod1E</td>\n",
       "    </tr>\n",
       "    <tr>\n",
       "      <th>107</th>\n",
       "      <td>HGNC:10289</td>\n",
       "      <td>RPA1</td>\n",
       "      <td>HGNC:1101</td>\n",
       "      <td>BRCA2</td>\n",
       "      <td>0</td>\n",
       "      <td>Mod1E</td>\n",
       "    </tr>\n",
       "  </tbody>\n",
       "</table>\n",
       "</div>"
      ],
      "text/plain": [
       "         hit_id hit_symbol   input_id input_symbol  score module\n",
       "13   HGNC:10290       RPA2  HGNC:1100        BRCA1      0  Mod1E\n",
       "60    HGNC:1925      CHEK1  HGNC:1100        BRCA1      0  Mod1E\n",
       "70    HGNC:3584      FANCC  HGNC:1100        BRCA1      0  Mod1E\n",
       "92   HGNC:25764       RMI1  HGNC:1100        BRCA1      0  Mod1E\n",
       "107  HGNC:10289       RPA1  HGNC:1101        BRCA2      0  Mod1E"
      ]
     },
     "execution_count": 61,
     "metadata": {},
     "output_type": "execute_result"
    }
   ],
   "source": [
    "Mod1E_results_final.head()"
   ]
  },
  {
   "cell_type": "code",
   "execution_count": 57,
   "metadata": {},
   "outputs": [],
   "source": [
    "all_results = pd.concat([Mod1A_results_human, Mod1B_results])"
   ]
  },
  {
   "cell_type": "code",
   "execution_count": 14,
   "metadata": {},
   "outputs": [],
   "source": [
    "from Modules.StandardOutput import StandardOutput"
   ]
  },
  {
   "cell_type": "code",
   "execution_count": 58,
   "metadata": {},
   "outputs": [],
   "source": [
    "so = StandardOutput(results=all_results.to_dict(orient='records'), input_object=input_object)"
   ]
  },
  {
   "cell_type": "code",
   "execution_count": 59,
   "metadata": {},
   "outputs": [],
   "source": [
    "std_api_response_json = so.output_object"
   ]
  },
  {
   "cell_type": "code",
   "execution_count": 60,
   "metadata": {},
   "outputs": [
    {
     "name": "stdout",
     "output_type": "stream",
     "text": [
      "Please visit the following website: https://rtx.ncats.io/?r=567\n"
     ]
    }
   ],
   "source": [
    "import requests\n",
    "\n",
    "# get the URL for these results displayed in the RTX UI\n",
    "RTX_UI_REQUEST_URL = \"https://rtx.ncats.io/devED/api/rtx/v1/response/process\"\n",
    "to_post = {\"options\": [\"Store\", \"ReturnResponseId\"], \"responses\": [std_api_response_json]}\n",
    "ui_url = requests.post(RTX_UI_REQUEST_URL, json=to_post)\n",
    "print(\"Please visit the following website: https://rtx.ncats.io/?r=%s\" % ui_url.json()['response_id'])"
   ]
  }
 ],
 "metadata": {
  "kernelspec": {
   "display_name": "Python 3",
   "language": "python",
   "name": "python3"
  },
  "language_info": {
   "codemirror_mode": {
    "name": "ipython",
    "version": 3
   },
   "file_extension": ".py",
   "mimetype": "text/x-python",
   "name": "python",
   "nbconvert_exporter": "python",
   "pygments_lexer": "ipython3",
   "version": "3.6.4"
  }
 },
 "nbformat": 4,
 "nbformat_minor": 2
}
