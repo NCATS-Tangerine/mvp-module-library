{
 "cells": [
  {
   "cell_type": "code",
   "execution_count": null,
   "metadata": {},
   "outputs": [],
   "source": [
    "from BioLink.biolink_client import BioLinkWrapper\n",
    "import pandas as pd\n",
    "from pprint import pprint\n",
    "from collections import defaultdict\n",
    "from mygene import MyGeneInfo\n",
    "from GraphVisuals.graphviz_wrapper import PathGraph"
   ]
  },
  {
   "cell_type": "markdown",
   "metadata": {},
   "source": [
    "## Module declaration"
   ]
  },
  {
   "cell_type": "code",
   "execution_count": null,
   "metadata": {},
   "outputs": [],
   "source": [
    "worklow_modules = [\n",
    "    ('Mod1A', 'Mod1A Functional Similarity'),\n",
    "    ('Mod1B', 'Mod1B Phenotype Similarity'),\n",
    "    ('Mod1C', 'Mod1C Coexpression'),\n",
    "    ('Mod1D', 'Mod1D Gene Chemical Interaction'),\n",
    "    ('Mod1E', 'Mod1E Gene Interaction'),\n",
    "    ('Mod3', 'Mod3 Candidate Merging')\n",
    "]"
   ]
  },
  {
   "cell_type": "code",
   "execution_count": null,
   "metadata": {},
   "outputs": [],
   "source": [
    "# start a list of final candidates from each module\n",
    "results = list()"
   ]
  },
  {
   "cell_type": "markdown",
   "metadata": {},
   "source": [
    "## Workflow input"
   ]
  },
  {
   "cell_type": "markdown",
   "metadata": {},
   "source": [
    "# Mod0 Input Lookup\n",
    "## Get Disease associated genes from BioLink API api.monarchinitative.org"
   ]
  },
  {
   "cell_type": "code",
   "execution_count": null,
   "metadata": {},
   "outputs": [],
   "source": [
    "from Modules.Mod0_lookups import LookUp\n",
    "\n",
    "# workflow input is a disease identifier\n",
    "lu = LookUp()"
   ]
  },
  {
   "cell_type": "code",
   "execution_count": null,
   "metadata": {},
   "outputs": [],
   "source": [
    "input_disease = 'MONDO:xxxxxxx' # Some Disease \n",
    "input_object = {\n",
    "    'input': input_disease,\n",
    "    'parameters': {\n",
    "        'taxon': 'human',\n",
    "        'threshold': None,\n",
    "    },\n",
    "}\n",
    "\n",
    "lu.load_input_object(input_object=input_object)\n",
    "input_object = lu.input_object"
   ]
  },
  {
   "cell_type": "code",
   "execution_count": null,
   "metadata": {},
   "outputs": [],
   "source": [
    "# instantiate workflow graph\n",
    "path_graph = PathGraph(input_curie=input_object['id'], input_label=input_object['label'])\n",
    "path_graph.load_nodes(node_list=worklow_modules)"
   ]
  },
  {
   "cell_type": "code",
   "execution_count": null,
   "metadata": {
    "scrolled": true
   },
   "outputs": [],
   "source": [
    "# get genes associated with disease from Biolink\n",
    "disease_associated_genes = lu.disease_geneset_lookup()\n",
    "# create list of gene curies for downstream module input\n",
    "input_curie_set = disease_associated_genes['hit_id'].tolist()\n",
    "# # show the \n",
    "disease_associated_genes"
   ]
  },
  {
   "cell_type": "code",
   "execution_count": null,
   "metadata": {},
   "outputs": [],
   "source": [
    "# graph disease genes 2 mod1\n",
    "path_graph.load_nodes(list(zip(disease_associated_genes['hit_id'], disease_associated_genes['hit_label'])))\n",
    "path_graph.module_outputs(output_gene_set=input_curie_set, module_id=path_graph.conv_pref(input_disease))\n",
    "for module in worklow_modules[:-1]:\n",
    "    path_graph.module_inputs(input_gene_set=input_curie_set, module_id=module[0])\n",
    "path_graph.path_graph"
   ]
  },
  {
   "cell_type": "code",
   "execution_count": null,
   "metadata": {},
   "outputs": [],
   "source": [
    "# add Mod0 results to ouput\n",
    "for index, row in disease_associated_genes.iterrows():\n",
    "    results.append({\n",
    "        'input_curie': row[0],\n",
    "        'input_name': row[1],\n",
    "        'output_curie': row[2],\n",
    "        'output_name': row[3],\n",
    "        'module': 'Mod0',\n",
    "        'score': None,\n",
    "    }) "
   ]
  },
  {
   "cell_type": "markdown",
   "metadata": {},
   "source": [
    "# Mod1A Functional Similarity\n",
    "## Find similar genes based on GO functional annotations using OntoBio Jaccard similarity"
   ]
  },
  {
   "cell_type": "code",
   "execution_count": null,
   "metadata": {
    "scrolled": true
   },
   "outputs": [],
   "source": [
    "from Modules.Mod1A_functional_sim import FunctionalSimilarity\n",
    "\n",
    "# Module specification\n",
    "mod1a_input_object = {\n",
    "    'input': input_curie_set,\n",
    "    'parameters': {\n",
    "        'taxon': 'human',\n",
    "        'threshold': 0.3,\n",
    "    },\n",
    "}\n",
    "    \n",
    "func_sim = FunctionalSimilarity()"
   ]
  },
  {
   "cell_type": "code",
   "execution_count": null,
   "metadata": {},
   "outputs": [],
   "source": [
    "mod1a_input_object = {\n",
    "    'input': input_curie_set,\n",
    "    'parameters': {\n",
    "        'taxon': 'human',\n",
    "        'threshold': 0.75,\n",
    "    },\n",
    "}\n",
    "func_sim.load_input_object(mod1a_input_object)\n",
    "func_sim.load_gene_set() \n",
    "func_sim.load_associations()"
   ]
  },
  {
   "cell_type": "code",
   "execution_count": null,
   "metadata": {},
   "outputs": [],
   "source": [
    "Mod1A_results = pd.DataFrame(func_sim.compute_similarity())"
   ]
  },
  {
   "cell_type": "code",
   "execution_count": null,
   "metadata": {},
   "outputs": [],
   "source": [
    "Mod1A_results = Mod1A_results[~Mod1A_results['hit_curie'].isin(input_curie_set)]"
   ]
  },
  {
   "cell_type": "code",
   "execution_count": null,
   "metadata": {},
   "outputs": [],
   "source": [
    "Mod1A_results"
   ]
  },
  {
   "cell_type": "code",
   "execution_count": null,
   "metadata": {},
   "outputs": [],
   "source": [
    "path_graph.load_nodes(list(zip(Mod1A_results['hit_curie'], Mod1A_results['hit_name'])))\n",
    "path_graph.module_inputs(input_gene_set=Mod1A_results['hit_curie'].tolist(), module_id='Mod3')\n",
    "path_graph.module_outputs(output_gene_set=Mod1A_results['hit_curie'].tolist(), module_id='Mod1A')\n",
    "path_graph.path_graph"
   ]
  },
  {
   "cell_type": "code",
   "execution_count": null,
   "metadata": {},
   "outputs": [],
   "source": [
    "# add Mod1A results to ouput\n",
    "for index, row in Mod1A_results.iterrows():\n",
    "    results.append({\n",
    "        'input_curie': row[0],\n",
    "        'input_name': row[1],\n",
    "        'output_curie': row[2],\n",
    "        'output_name': row[3],\n",
    "        'module': 'Mod1A',\n",
    "        'score': row[4],\n",
    "    }) "
   ]
  },
  {
   "cell_type": "markdown",
   "metadata": {},
   "source": [
    "# MOD1B Phenotype Similarity\n",
    "## Find similar genes based on OwlSim calculated Phenotype Similarity"
   ]
  },
  {
   "cell_type": "code",
   "execution_count": null,
   "metadata": {},
   "outputs": [],
   "source": [
    "from Modules.Mod1B_phenotype_similarity import PhenotypeSimilarity\n",
    "\n",
    "mod1b_input_object = {\n",
    "    'input': input_curie_set,\n",
    "     'parameters': {\n",
    "        'taxon': 'human',\n",
    "        'threshold': 100,\n",
    "    },\n",
    "}\n",
    "\n",
    "# Module specification\n",
    "pheno_sim = PhenotypeSimilarity()"
   ]
  },
  {
   "cell_type": "code",
   "execution_count": null,
   "metadata": {},
   "outputs": [],
   "source": [
    "pheno_sim.load_input_object(mod1b_input_object)\n",
    "pheno_sim.load_gene_set()\n",
    "pheno_sim.load_associations()"
   ]
  },
  {
   "cell_type": "code",
   "execution_count": null,
   "metadata": {
    "scrolled": true
   },
   "outputs": [],
   "source": [
    "# compute phenotype similarity\n",
    "Mod1B_results = pd.DataFrame(pheno_sim.compute_similarity(sim_type='disease'))"
   ]
  },
  {
   "cell_type": "code",
   "execution_count": null,
   "metadata": {},
   "outputs": [],
   "source": [
    "Mod1B_results"
   ]
  },
  {
   "cell_type": "code",
   "execution_count": null,
   "metadata": {},
   "outputs": [],
   "source": [
    "path_graph.load_nodes(list(zip(Mod1B_results['id'], Mod1B_results['label_x'])))\n",
    "path_graph.module_outputs(output_gene_set=Mod1B_results['id'].tolist(), module_id='Mod1B')\n",
    "path_graph.module_inputs(input_gene_set=Mod1B_results['id'].tolist(), module_id='Mod3')\n",
    "path_graph.path_graph"
   ]
  },
  {
   "cell_type": "code",
   "execution_count": null,
   "metadata": {},
   "outputs": [],
   "source": [
    "# graph mod1B genes 2 Mod3\n",
    "for index, row in Mod1B_results.iterrows():\n",
    "    results.append({\n",
    "        'input_curie': row[-1],\n",
    "        'input_name': None,\n",
    "        'output_curie': row[1],\n",
    "        'output_name': row[2],\n",
    "        'module': 'Mod1B',\n",
    "        'score': row[3]\n",
    "    }) "
   ]
  },
  {
   "cell_type": "markdown",
   "metadata": {},
   "source": [
    "# Mod1C Coexpression"
   ]
  },
  {
   "cell_type": "code",
   "execution_count": null,
   "metadata": {},
   "outputs": [],
   "source": [
    "# TODO"
   ]
  },
  {
   "cell_type": "markdown",
   "metadata": {},
   "source": [
    "# Mod1D Chemical Gene Interactions"
   ]
  },
  {
   "cell_type": "code",
   "execution_count": null,
   "metadata": {},
   "outputs": [],
   "source": [
    "# TODO"
   ]
  },
  {
   "cell_type": "markdown",
   "metadata": {},
   "source": [
    "# Mod1E Gene Interactions"
   ]
  },
  {
   "cell_type": "code",
   "execution_count": null,
   "metadata": {},
   "outputs": [],
   "source": [
    "from Modules.Mod1E_interactions import GeneInteractions\n",
    "gene_inter = GeneInteractions()"
   ]
  },
  {
   "cell_type": "code",
   "execution_count": null,
   "metadata": {},
   "outputs": [],
   "source": [
    "mod1e_input_object = {\n",
    "    'input': input_curie_set,\n",
    "     'parameters': {\n",
    "        'taxon': 'human',\n",
    "        'threshold': None,\n",
    "    },\n",
    "}\n",
    "gene_inter.load_input_object(input_object=mod1e_input_object)\n",
    "gene_inter.load_gene_set()"
   ]
  },
  {
   "cell_type": "code",
   "execution_count": null,
   "metadata": {
    "scrolled": false
   },
   "outputs": [],
   "source": [
    "Mod1E_results = pd.DataFrame(gene_inter.get_interactions())"
   ]
  },
  {
   "cell_type": "code",
   "execution_count": null,
   "metadata": {},
   "outputs": [],
   "source": [
    "Mod1E_results"
   ]
  },
  {
   "cell_type": "code",
   "execution_count": null,
   "metadata": {},
   "outputs": [],
   "source": [
    "Mod1E_results = Mod1E_results[~Mod1E_results['hit_name'].isin(disease_associated_genes['hit_label'])]"
   ]
  },
  {
   "cell_type": "code",
   "execution_count": null,
   "metadata": {},
   "outputs": [],
   "source": [
    "grouped_Mod1E_results = Mod1E_results.groupby(['hit_curie', 'hit_name'])['input_curie'].apply(', '.join).reset_index()\n",
    "trimmed_Mod1E_results = list()\n",
    "for index, row in grouped_Mod1E_results.iterrows():\n",
    "    if len(row[-1].split(',')) > 3:\n",
    "        trimmed_Mod1E_results.append(row)\n",
    "Mod1E_results = pd.DataFrame(trimmed_Mod1E_results, columns=['hit_curie', 'hit_name', 'input_curie']).reset_index()\n",
    "Mod1E_results"
   ]
  },
  {
   "cell_type": "code",
   "execution_count": null,
   "metadata": {},
   "outputs": [],
   "source": [
    "path_graph.load_nodes(list(zip(Mod1E_results['hit_curie'], Mod1E_results['hit_name']))[:10])\n",
    "path_graph.module_outputs(output_gene_set=Mod1E_results['hit_curie'].tolist()[:10], module_id='Mod1E')\n",
    "path_graph.module_inputs(input_gene_set=Mod1E_results['hit_curie'].tolist()[:10], module_id='Mod3')\n",
    "path_graph.path_graph"
   ]
  },
  {
   "cell_type": "code",
   "execution_count": null,
   "metadata": {
    "scrolled": true
   },
   "outputs": [],
   "source": [
    "# graph mod1E genes 2 Mod3\n",
    "for index, row in Mod1E_results.iterrows():\n",
    "    results.append({\n",
    "        'input_curie': row[-1],\n",
    "        'input_name': None,\n",
    "        'output_curie': row[1],\n",
    "        'output_name': row[2],\n",
    "        'module': 'Mod1E',\n",
    "        'score': None\n",
    "    })"
   ]
  },
  {
   "cell_type": "code",
   "execution_count": null,
   "metadata": {},
   "outputs": [],
   "source": [
    "results_df = pd.DataFrame(results)"
   ]
  },
  {
   "cell_type": "code",
   "execution_count": null,
   "metadata": {},
   "outputs": [],
   "source": [
    "results_df"
   ]
  },
  {
   "cell_type": "code",
   "execution_count": null,
   "metadata": {},
   "outputs": [],
   "source": [
    "results_df.groupby(['output_name', 'output_curie'])['module'].apply(', '.join).reset_index().reset_index()"
   ]
  },
  {
   "cell_type": "code",
   "execution_count": null,
   "metadata": {},
   "outputs": [],
   "source": []
  }
 ],
 "metadata": {
  "kernelspec": {
   "display_name": "Python 3",
   "language": "python",
   "name": "python3"
  },
  "language_info": {
   "codemirror_mode": {
    "name": "ipython",
    "version": 3
   },
   "file_extension": ".py",
   "mimetype": "text/x-python",
   "name": "python",
   "nbconvert_exporter": "python",
   "pygments_lexer": "ipython3",
   "version": "3.6.4"
  }
 },
 "nbformat": 4,
 "nbformat_minor": 2
}
