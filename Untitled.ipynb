{
 "cells": [
  {
   "cell_type": "code",
   "execution_count": 1,
   "metadata": {
    "scrolled": true
   },
   "outputs": [
    {
     "name": "stderr",
     "output_type": "stream",
     "text": [
      "/usr/local/anaconda3/lib/python3.6/site-packages/cachier/mongo_core.py:24: UserWarning: Cachier warning: pymongo was not found. MongoDB cores will not work.\n",
      "  \"Cachier warning: pymongo was not found. MongoDB cores will not work.\")\n"
     ]
    }
   ],
   "source": [
    "from GeneStore.gene_store import FanconiGeneImporter\n",
    "from Modules.functional_sim import FunctionalSim\n",
    "from BioLink.biolink_client import BioLinkWrapper"
   ]
  },
  {
   "cell_type": "code",
   "execution_count": 2,
   "metadata": {},
   "outputs": [],
   "source": [
    "FA_1_core_complex = \"FA_1_core_complex.txt\"\n",
    "fa = FanconiGeneImporter(gene_set=FA_1_core_complex)\n",
    "fa_core = fa.fa_core()['gene_curie'].tolist()"
   ]
  },
  {
   "cell_type": "code",
   "execution_count": 3,
   "metadata": {},
   "outputs": [
    {
     "name": "stdout",
     "output_type": "stream",
     "text": [
      "loading ontology -- this can take a while\n"
     ]
    }
   ],
   "source": [
    "sim = FunctionalSim()"
   ]
  },
  {
   "cell_type": "code",
   "execution_count": 4,
   "metadata": {},
   "outputs": [
    {
     "data": {
      "text/plain": [
       "[{'input_gene': 'FANCA',\n",
       "  'input_gene_curie': 'NCBIGene:2175',\n",
       "  'sim_gene_name': 'FANCD2',\n",
       "  'sim_hit_curie': 'UniProtKB:Q9BXW9',\n",
       "  'sim_score': 0.7004608294930875},\n",
       " {'input_gene': 'FANCB',\n",
       "  'input_gene_curie': 'NCBIGene:2187',\n",
       "  'sim_gene_name': 'FAAP100',\n",
       "  'sim_hit_curie': 'UniProtKB:Q0VG06',\n",
       "  'sim_score': 0.8103448275862069},\n",
       " {'input_gene': 'FANCB',\n",
       "  'input_gene_curie': 'NCBIGene:2187',\n",
       "  'sim_gene_name': 'FAAP24',\n",
       "  'sim_hit_curie': 'UniProtKB:Q9BTP7',\n",
       "  'sim_score': 0.9038461538461539},\n",
       " {'input_gene': 'FANCB',\n",
       "  'input_gene_curie': 'NCBIGene:2187',\n",
       "  'sim_gene_name': 'INIP',\n",
       "  'sim_hit_curie': 'UniProtKB:Q9NRY2',\n",
       "  'sim_score': 0.8627450980392157},\n",
       " {'input_gene': 'FANCE',\n",
       "  'input_gene_curie': 'NCBIGene:2178',\n",
       "  'sim_gene_name': 'FAAP100',\n",
       "  'sim_hit_curie': 'UniProtKB:Q0VG06',\n",
       "  'sim_score': 0.8103448275862069},\n",
       " {'input_gene': 'FANCE',\n",
       "  'input_gene_curie': 'NCBIGene:2178',\n",
       "  'sim_gene_name': 'FAAP24',\n",
       "  'sim_hit_curie': 'UniProtKB:Q9BTP7',\n",
       "  'sim_score': 0.9038461538461539},\n",
       " {'input_gene': 'FANCE',\n",
       "  'input_gene_curie': 'NCBIGene:2178',\n",
       "  'sim_gene_name': 'INIP',\n",
       "  'sim_hit_curie': 'UniProtKB:Q9NRY2',\n",
       "  'sim_score': 0.8627450980392157},\n",
       " {'input_gene': 'FANCF',\n",
       "  'input_gene_curie': 'NCBIGene:2188',\n",
       "  'sim_gene_name': 'FAAP100',\n",
       "  'sim_hit_curie': 'UniProtKB:Q0VG06',\n",
       "  'sim_score': 0.8103448275862069},\n",
       " {'input_gene': 'FANCF',\n",
       "  'input_gene_curie': 'NCBIGene:2188',\n",
       "  'sim_gene_name': 'FAAP24',\n",
       "  'sim_hit_curie': 'UniProtKB:Q9BTP7',\n",
       "  'sim_score': 0.9038461538461539},\n",
       " {'input_gene': 'FANCF',\n",
       "  'input_gene_curie': 'NCBIGene:2188',\n",
       "  'sim_gene_name': 'INIP',\n",
       "  'sim_hit_curie': 'UniProtKB:Q9NRY2',\n",
       "  'sim_score': 0.8627450980392157},\n",
       " {'input_gene': 'FANCD2',\n",
       "  'input_gene_curie': 'NCBIGene:2177',\n",
       "  'sim_gene_name': 'FANCA',\n",
       "  'sim_hit_curie': 'UniProtKB:O15360',\n",
       "  'sim_score': 0.7004608294930875}]"
      ]
     },
     "execution_count": 4,
     "metadata": {},
     "output_type": "execute_result"
    }
   ],
   "source": [
    "sim.load_gene_set(gene_set=fa_core)\n",
    "sim.load_associations(group='human')\n",
    "sim.compute_similarity()"
   ]
  },
  {
   "cell_type": "code",
   "execution_count": 5,
   "metadata": {},
   "outputs": [
    {
     "ename": "KeyError",
     "evalue": "'uniprot'",
     "output_type": "error",
     "traceback": [
      "\u001b[0;31m---------------------------------------------------------------------------\u001b[0m",
      "\u001b[0;31mKeyError\u001b[0m                                  Traceback (most recent call last)",
      "\u001b[0;32m<ipython-input-5-41c596d0a036>\u001b[0m in \u001b[0;36m<module>\u001b[0;34m()\u001b[0m\n\u001b[1;32m      3\u001b[0m \u001b[0msim\u001b[0m\u001b[0;34m.\u001b[0m\u001b[0mload_gene_set\u001b[0m\u001b[0;34m(\u001b[0m\u001b[0mgene_set\u001b[0m\u001b[0;34m=\u001b[0m\u001b[0mmouse_orths\u001b[0m\u001b[0;34m,\u001b[0m \u001b[0mtaxon\u001b[0m\u001b[0;34m=\u001b[0m\u001b[0;34m'mouse'\u001b[0m\u001b[0;34m)\u001b[0m\u001b[0;34m\u001b[0m\u001b[0m\n\u001b[1;32m      4\u001b[0m \u001b[0msim\u001b[0m\u001b[0;34m.\u001b[0m\u001b[0mload_associations\u001b[0m\u001b[0;34m(\u001b[0m\u001b[0mgroup\u001b[0m\u001b[0;34m=\u001b[0m\u001b[0;34m'mgi'\u001b[0m\u001b[0;34m)\u001b[0m\u001b[0;34m\u001b[0m\u001b[0m\n\u001b[0;32m----> 5\u001b[0;31m \u001b[0msim\u001b[0m\u001b[0;34m.\u001b[0m\u001b[0mcompute_similarity\u001b[0m\u001b[0;34m(\u001b[0m\u001b[0;34m)\u001b[0m\u001b[0;34m\u001b[0m\u001b[0m\n\u001b[0m",
      "\u001b[0;32m~/CODE/mvp-modules/mvp-modules/Modules/functional_sim.py\u001b[0m in \u001b[0;36mcompute_similarity\u001b[0;34m(self)\u001b[0m\n\u001b[1;32m     39\u001b[0m             \u001b[0mmg\u001b[0m\u001b[0;34m.\u001b[0m\u001b[0mquery_mygene\u001b[0m\u001b[0;34m(\u001b[0m\u001b[0;34m)\u001b[0m\u001b[0;34m\u001b[0m\u001b[0m\n\u001b[1;32m     40\u001b[0m             \u001b[0mgene_dat\u001b[0m \u001b[0;34m=\u001b[0m \u001b[0mmg\u001b[0m\u001b[0;34m.\u001b[0m\u001b[0mpackage\u001b[0m\u001b[0;34m\u001b[0m\u001b[0m\n\u001b[0;32m---> 41\u001b[0;31m             \u001b[0mukb\u001b[0m \u001b[0;34m=\u001b[0m \u001b[0mmg\u001b[0m\u001b[0;34m.\u001b[0m\u001b[0mparse_uniprot\u001b[0m\u001b[0;34m(\u001b[0m\u001b[0;34m)\u001b[0m\u001b[0;34m\u001b[0m\u001b[0m\n\u001b[0m\u001b[1;32m     42\u001b[0m             \u001b[0msymbol\u001b[0m \u001b[0;34m=\u001b[0m \u001b[0mgene_dat\u001b[0m\u001b[0;34m[\u001b[0m\u001b[0;34m'symbol'\u001b[0m\u001b[0;34m]\u001b[0m\u001b[0;34m\u001b[0m\u001b[0m\n\u001b[1;32m     43\u001b[0m             \u001b[0;32mfor\u001b[0m \u001b[0msub_gene\u001b[0m \u001b[0;32min\u001b[0m \u001b[0mlist\u001b[0m\u001b[0;34m(\u001b[0m\u001b[0mself\u001b[0m\u001b[0;34m.\u001b[0m\u001b[0massociations\u001b[0m\u001b[0;34m.\u001b[0m\u001b[0msubject_label_map\u001b[0m\u001b[0;34m.\u001b[0m\u001b[0mkeys\u001b[0m\u001b[0;34m(\u001b[0m\u001b[0;34m)\u001b[0m\u001b[0;34m)\u001b[0m\u001b[0;34m:\u001b[0m\u001b[0;34m\u001b[0m\u001b[0m\n",
      "\u001b[0;32m~/CODE/mvp-modules/mvp-modules/MyGene/mygene_client.py\u001b[0m in \u001b[0;36mparse_uniprot\u001b[0;34m(self)\u001b[0m\n\u001b[1;32m     41\u001b[0m \u001b[0;34m\u001b[0m\u001b[0m\n\u001b[1;32m     42\u001b[0m     \u001b[0;32mdef\u001b[0m \u001b[0mparse_uniprot\u001b[0m\u001b[0;34m(\u001b[0m\u001b[0mself\u001b[0m\u001b[0;34m)\u001b[0m\u001b[0;34m:\u001b[0m\u001b[0;34m\u001b[0m\u001b[0m\n\u001b[0;32m---> 43\u001b[0;31m         \u001b[0muniprot\u001b[0m \u001b[0;34m=\u001b[0m \u001b[0mself\u001b[0m\u001b[0;34m.\u001b[0m\u001b[0mpackage\u001b[0m\u001b[0;34m[\u001b[0m\u001b[0;34m'uniprot'\u001b[0m\u001b[0;34m]\u001b[0m\u001b[0;34m\u001b[0m\u001b[0m\n\u001b[0m\u001b[1;32m     44\u001b[0m         \u001b[0;32mif\u001b[0m \u001b[0;34m'Swiss-Prot'\u001b[0m \u001b[0;32min\u001b[0m \u001b[0muniprot\u001b[0m\u001b[0;34m.\u001b[0m\u001b[0mkeys\u001b[0m\u001b[0;34m(\u001b[0m\u001b[0;34m)\u001b[0m\u001b[0;34m:\u001b[0m\u001b[0;34m\u001b[0m\u001b[0m\n\u001b[1;32m     45\u001b[0m             \u001b[0;32mif\u001b[0m \u001b[0misinstance\u001b[0m\u001b[0;34m(\u001b[0m\u001b[0muniprot\u001b[0m\u001b[0;34m[\u001b[0m\u001b[0;34m'Swiss-Prot'\u001b[0m\u001b[0;34m]\u001b[0m\u001b[0;34m,\u001b[0m \u001b[0mlist\u001b[0m\u001b[0;34m)\u001b[0m\u001b[0;34m:\u001b[0m\u001b[0;34m\u001b[0m\u001b[0m\n",
      "\u001b[0;31mKeyError\u001b[0m: 'uniprot'"
     ]
    }
   ],
   "source": [
    "BLW = BioLinkWrapper()\n",
    "mouse_orths = BLW.get_orthoglog_gene_set(gene_set=fa_core, orth_taxon_name='mouse')\n",
    "sim.load_gene_set(gene_set=mouse_orths, taxon='mouse')\n",
    "sim.load_associations(group='mgi')\n",
    "sim.compute_similarity()"
   ]
  },
  {
   "cell_type": "code",
   "execution_count": null,
   "metadata": {},
   "outputs": [],
   "source": [
    "BLW = BioLinkWrapper()\n",
    "mouse_orths = BLW.get_orthoglog_gene_set(gene_set=fa_core, orth_taxon_name='mouse')\n",
    "sim.load_gene_set(gene_set=mouse_orths, taxon='rat')\n",
    "sim.load_associations(group='rgd')\n",
    "sim.compute_similarity()"
   ]
  },
  {
   "cell_type": "code",
   "execution_count": null,
   "metadata": {},
   "outputs": [],
   "source": [
    "BLW = BioLinkWrapper()\n",
    "mouse_orths = BLW.get_orthoglog_gene_set(gene_set=fa_core, orth_taxon_name='mouse')\n",
    "sim.load_gene_set(gene_set=mouse_orths, taxon='zebrafish')\n",
    "sim.load_associations(group='zfin')\n",
    "sim.compute_similarity()"
   ]
  },
  {
   "cell_type": "code",
   "execution_count": null,
   "metadata": {},
   "outputs": [],
   "source": []
  },
  {
   "cell_type": "code",
   "execution_count": null,
   "metadata": {},
   "outputs": [],
   "source": []
  }
 ],
 "metadata": {
  "kernelspec": {
   "display_name": "Python 3",
   "language": "python",
   "name": "python3"
  },
  "language_info": {
   "codemirror_mode": {
    "name": "ipython",
    "version": 3
   },
   "file_extension": ".py",
   "mimetype": "text/x-python",
   "name": "python",
   "nbconvert_exporter": "python",
   "pygments_lexer": "ipython3",
   "version": "3.6.4"
  }
 },
 "nbformat": 4,
 "nbformat_minor": 2
}
