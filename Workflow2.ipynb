{
 "cells": [
  {
   "cell_type": "code",
   "execution_count": 1,
   "metadata": {
    "scrolled": true
   },
   "outputs": [],
   "source": [
    "from pprint import pprint\n",
    "import os\n",
    "import sys\n",
    "import pandas as pd"
   ]
  },
  {
   "cell_type": "code",
   "execution_count": 2,
   "metadata": {},
   "outputs": [],
   "source": [
    "module_path = os.path.abspath(os.path.join('../..'))\n",
    "if module_path not in sys.path:\n",
    "    sys.path.append(module_path)\n",
    "from BioLink.biolink_client import BioLinkWrapper"
   ]
  },
  {
   "cell_type": "code",
   "execution_count": 3,
   "metadata": {},
   "outputs": [
    {
     "data": {
      "text/plain": [
       "['HGNC:1100',\n",
       " 'HGNC:1101',\n",
       " 'HGNC:11892',\n",
       " 'HGNC:12829',\n",
       " 'HGNC:20473',\n",
       " 'HGNC:20748',\n",
       " 'HGNC:23168',\n",
       " 'HGNC:23845',\n",
       " 'HGNC:25009',\n",
       " 'HGNC:25539',\n",
       " 'HGNC:25568',\n",
       " 'HGNC:26144',\n",
       " 'HGNC:28623',\n",
       " 'HGNC:3436',\n",
       " 'HGNC:3582',\n",
       " 'HGNC:3583',\n",
       " 'HGNC:3584',\n",
       " 'HGNC:3585',\n",
       " 'HGNC:3586',\n",
       " 'HGNC:3587',\n",
       " 'HGNC:3588',\n",
       " 'HGNC:6764',\n",
       " 'HGNC:7532',\n",
       " 'HGNC:9817',\n",
       " 'HGNC:9820']"
      ]
     },
     "execution_count": 3,
     "metadata": {},
     "output_type": "execute_result"
    }
   ],
   "source": [
    "# MVP1 workflow\n",
    "input_disease = 'MONDO:0019391'  # Fanconi Anemia\n",
    "\n",
    "blw = BioLinkWrapper()\n",
    "\n",
    "# get fa related genes from BioLink\n",
    "fa_gene_associations = blw.disease2genes(input_disease)\n",
    "fa_gene_curies = fa_gene_associations['objects']\n",
    "fa_gene_curies"
   ]
  },
  {
   "cell_type": "markdown",
   "metadata": {},
   "source": [
    "# Mod1A Human Functional Similarity analysis"
   ]
  },
  {
   "cell_type": "code",
   "execution_count": 4,
   "metadata": {},
   "outputs": [
    {
     "name": "stderr",
     "output_type": "stream",
     "text": [
      "/home/lance/git/2018/summer/berkeley/mvp-module-library/venv/lib/python3.5/site-packages/cachier/mongo_core.py:24: UserWarning: Cachier warning: pymongo was not found. MongoDB cores will not work.\n",
      "  \"Cachier warning: pymongo was not found. MongoDB cores will not work.\")\n"
     ]
    }
   ],
   "source": [
    "from Modules.Mod1A_functional_sim import FunctionalSimilarity"
   ]
  },
  {
   "cell_type": "code",
   "execution_count": 5,
   "metadata": {},
   "outputs": [
    {
     "data": {
      "text/html": [
       "<div>\n",
       "<table border=\"1\" class=\"dataframe\">\n",
       "  <thead>\n",
       "    <tr style=\"text-align: right;\">\n",
       "      <th></th>\n",
       "      <th>input_curie</th>\n",
       "      <th>input_name</th>\n",
       "      <th>sim_hit_curie</th>\n",
       "      <th>sim_hit_name</th>\n",
       "      <th>sim_score</th>\n",
       "    </tr>\n",
       "  </thead>\n",
       "  <tbody>\n",
       "    <tr>\n",
       "      <th>0</th>\n",
       "      <td>HGNC:3585</td>\n",
       "      <td>FANCD2</td>\n",
       "      <td>UniProtKB:O15360</td>\n",
       "      <td>FANCA</td>\n",
       "      <td>0.700461</td>\n",
       "    </tr>\n",
       "    <tr>\n",
       "      <th>1</th>\n",
       "      <td>HGNC:23845</td>\n",
       "      <td>SLX4</td>\n",
       "      <td>UniProtKB:Q9BQ83</td>\n",
       "      <td>SLX1A</td>\n",
       "      <td>0.760638</td>\n",
       "    </tr>\n",
       "    <tr>\n",
       "      <th>2</th>\n",
       "      <td>HGNC:3582</td>\n",
       "      <td>FANCA</td>\n",
       "      <td>UniProtKB:Q9BXW9</td>\n",
       "      <td>FANCD2</td>\n",
       "      <td>0.700461</td>\n",
       "    </tr>\n",
       "    <tr>\n",
       "      <th>3</th>\n",
       "      <td>HGNC:3586</td>\n",
       "      <td>FANCE</td>\n",
       "      <td>UniProtKB:Q9NRY2</td>\n",
       "      <td>INIP</td>\n",
       "      <td>0.803922</td>\n",
       "    </tr>\n",
       "    <tr>\n",
       "      <th>4</th>\n",
       "      <td>HGNC:3586</td>\n",
       "      <td>FANCE</td>\n",
       "      <td>UniProtKB:Q9BTP7</td>\n",
       "      <td>FAAP24</td>\n",
       "      <td>0.846154</td>\n",
       "    </tr>\n",
       "    <tr>\n",
       "      <th>5</th>\n",
       "      <td>HGNC:3586</td>\n",
       "      <td>FANCE</td>\n",
       "      <td>UniProtKB:Q0VG06</td>\n",
       "      <td>FAAP100</td>\n",
       "      <td>0.758621</td>\n",
       "    </tr>\n",
       "    <tr>\n",
       "      <th>6</th>\n",
       "      <td>HGNC:3586</td>\n",
       "      <td>FANCE</td>\n",
       "      <td>UniProtKB:Q8NB91</td>\n",
       "      <td>FANCB</td>\n",
       "      <td>0.936170</td>\n",
       "    </tr>\n",
       "    <tr>\n",
       "      <th>7</th>\n",
       "      <td>HGNC:3586</td>\n",
       "      <td>FANCE</td>\n",
       "      <td>UniProtKB:Q9NPI8</td>\n",
       "      <td>FANCF</td>\n",
       "      <td>0.936170</td>\n",
       "    </tr>\n",
       "    <tr>\n",
       "      <th>8</th>\n",
       "      <td>HGNC:3583</td>\n",
       "      <td>FANCB</td>\n",
       "      <td>UniProtKB:Q9NRY2</td>\n",
       "      <td>INIP</td>\n",
       "      <td>0.862745</td>\n",
       "    </tr>\n",
       "    <tr>\n",
       "      <th>9</th>\n",
       "      <td>HGNC:3583</td>\n",
       "      <td>FANCB</td>\n",
       "      <td>UniProtKB:Q9BTP7</td>\n",
       "      <td>FAAP24</td>\n",
       "      <td>0.903846</td>\n",
       "    </tr>\n",
       "    <tr>\n",
       "      <th>10</th>\n",
       "      <td>HGNC:3583</td>\n",
       "      <td>FANCB</td>\n",
       "      <td>UniProtKB:Q0VG06</td>\n",
       "      <td>FAAP100</td>\n",
       "      <td>0.810345</td>\n",
       "    </tr>\n",
       "    <tr>\n",
       "      <th>11</th>\n",
       "      <td>HGNC:3583</td>\n",
       "      <td>FANCB</td>\n",
       "      <td>UniProtKB:Q9HB96</td>\n",
       "      <td>FANCE</td>\n",
       "      <td>0.936170</td>\n",
       "    </tr>\n",
       "    <tr>\n",
       "      <th>12</th>\n",
       "      <td>HGNC:3587</td>\n",
       "      <td>FANCF</td>\n",
       "      <td>UniProtKB:Q9NRY2</td>\n",
       "      <td>INIP</td>\n",
       "      <td>0.862745</td>\n",
       "    </tr>\n",
       "    <tr>\n",
       "      <th>13</th>\n",
       "      <td>HGNC:3587</td>\n",
       "      <td>FANCF</td>\n",
       "      <td>UniProtKB:Q9BTP7</td>\n",
       "      <td>FAAP24</td>\n",
       "      <td>0.903846</td>\n",
       "    </tr>\n",
       "    <tr>\n",
       "      <th>14</th>\n",
       "      <td>HGNC:3587</td>\n",
       "      <td>FANCF</td>\n",
       "      <td>UniProtKB:Q0VG06</td>\n",
       "      <td>FAAP100</td>\n",
       "      <td>0.810345</td>\n",
       "    </tr>\n",
       "    <tr>\n",
       "      <th>15</th>\n",
       "      <td>HGNC:3587</td>\n",
       "      <td>FANCF</td>\n",
       "      <td>UniProtKB:Q9HB96</td>\n",
       "      <td>FANCE</td>\n",
       "      <td>0.936170</td>\n",
       "    </tr>\n",
       "  </tbody>\n",
       "</table>\n",
       "</div>"
      ],
      "text/plain": [
       "   input_curie input_name     sim_hit_curie sim_hit_name  sim_score\n",
       "0    HGNC:3585     FANCD2  UniProtKB:O15360        FANCA   0.700461\n",
       "1   HGNC:23845       SLX4  UniProtKB:Q9BQ83        SLX1A   0.760638\n",
       "2    HGNC:3582      FANCA  UniProtKB:Q9BXW9       FANCD2   0.700461\n",
       "3    HGNC:3586      FANCE  UniProtKB:Q9NRY2         INIP   0.803922\n",
       "4    HGNC:3586      FANCE  UniProtKB:Q9BTP7       FAAP24   0.846154\n",
       "5    HGNC:3586      FANCE  UniProtKB:Q0VG06      FAAP100   0.758621\n",
       "6    HGNC:3586      FANCE  UniProtKB:Q8NB91        FANCB   0.936170\n",
       "7    HGNC:3586      FANCE  UniProtKB:Q9NPI8        FANCF   0.936170\n",
       "8    HGNC:3583      FANCB  UniProtKB:Q9NRY2         INIP   0.862745\n",
       "9    HGNC:3583      FANCB  UniProtKB:Q9BTP7       FAAP24   0.903846\n",
       "10   HGNC:3583      FANCB  UniProtKB:Q0VG06      FAAP100   0.810345\n",
       "11   HGNC:3583      FANCB  UniProtKB:Q9HB96        FANCE   0.936170\n",
       "12   HGNC:3587      FANCF  UniProtKB:Q9NRY2         INIP   0.862745\n",
       "13   HGNC:3587      FANCF  UniProtKB:Q9BTP7       FAAP24   0.903846\n",
       "14   HGNC:3587      FANCF  UniProtKB:Q0VG06      FAAP100   0.810345\n",
       "15   HGNC:3587      FANCF  UniProtKB:Q9HB96        FANCE   0.936170"
      ]
     },
     "execution_count": 5,
     "metadata": {},
     "output_type": "execute_result"
    }
   ],
   "source": [
    "# human analysis\n",
    "fsim = FunctionalSimilarity()\n",
    "fsim.load_gene_set(gene_set=fa_gene_curies)\n",
    "fsim.gene_set\n",
    "human_fsim_genes = fsim.compute_similarity()\n",
    "human_fsim_genes_df = pd.DataFrame(data=human_fsim_genes)\n",
    "human_fsim_genes_df"
   ]
  },
  {
   "cell_type": "markdown",
   "metadata": {},
   "source": [
    "# Mod1B Phenotype Similarity Analysis"
   ]
  },
  {
   "cell_type": "code",
   "execution_count": null,
   "metadata": {},
   "outputs": [],
   "source": [
    "from Modules.Mod1B_phenotype_similarity import PhenotypeSim\n",
    "\n",
    "# get fa related phenotypes from Biolink\n",
    "fa_disease_associations = blw.disease2phenotypes(disease_curie=input_disease)\n",
    "fa_phenotype_curies = fa_disease_associations['objects']"
   ]
  },
  {
   "cell_type": "code",
   "execution_count": null,
   "metadata": {},
   "outputs": [],
   "source": [
    "fa_phenotype_curies"
   ]
  },
  {
   "cell_type": "code",
   "execution_count": null,
   "metadata": {},
   "outputs": [],
   "source": [
    "phenosim = PhenotypeSim(phenotype_set=fa_phenotype_curies)\n",
    "phenosim_disease_associations = phenosim.phenotype_simsearch(return_type='disease')"
   ]
  },
  {
   "cell_type": "code",
   "execution_count": null,
   "metadata": {},
   "outputs": [],
   "source": [
    "phenosim_genes = []\n",
    "for disease in phenosim_disease_associations['data']:\n",
    "    disease_genes = blw.disease2genes(disease_curie=disease['matchId'])\n",
    "    disease['genes'] = disease_genes['objects']\n",
    "    phenosim_genes.append(disease)\n",
    "phenosim_genes_df = pd.DataFrame(data=phenosim_genes)"
   ]
  },
  {
   "cell_type": "code",
   "execution_count": null,
   "metadata": {},
   "outputs": [],
   "source": [
    "phenosim_genes_df"
   ]
  },
  {
   "cell_type": "code",
   "execution_count": null,
   "metadata": {},
   "outputs": [],
   "source": []
  }
 ],
 "metadata": {
  "kernelspec": {
   "display_name": "Python 3",
   "language": "python",
   "name": "python3"
  },
  "language_info": {
   "codemirror_mode": {
    "name": "ipython",
    "version": 3
   },
   "file_extension": ".py",
   "mimetype": "text/x-python",
   "name": "python",
   "nbconvert_exporter": "python",
   "pygments_lexer": "ipython3",
   "version": "3.5.3"
  }
 },
 "nbformat": 4,
 "nbformat_minor": 2
}
